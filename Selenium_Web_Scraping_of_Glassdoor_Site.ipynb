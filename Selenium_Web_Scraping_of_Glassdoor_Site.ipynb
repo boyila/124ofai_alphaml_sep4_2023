{
  "cells": [
    {
      "cell_type": "markdown",
      "metadata": {
        "id": "view-in-github",
        "colab_type": "text"
      },
      "source": [
        "<a href=\"https://colab.research.google.com/github/boyila/124ofai_alphaml_sep4_2023/blob/main/Selenium_Web_Scraping_of_Glassdoor_Site.ipynb\" target=\"_parent\"><img src=\"https://colab.research.google.com/assets/colab-badge.svg\" alt=\"Open In Colab\"/></a>"
      ]
    },
    {
      "cell_type": "code",
      "source": [
        "!pip install selenium"
      ],
      "metadata": {
        "id": "FftB_Imxx0zN",
        "outputId": "b3a42d66-bc24-4c35-80a2-1f05f50d3f12",
        "colab": {
          "base_uri": "https://localhost:8080/"
        }
      },
      "execution_count": null,
      "outputs": [
        {
          "output_type": "stream",
          "name": "stdout",
          "text": [
            "Collecting selenium\n",
            "  Downloading selenium-4.15.2-py3-none-any.whl (10.2 MB)\n",
            "\u001b[2K     \u001b[90m━━━━━━━━━━━━━━━━━━━━━━━━━━━━━━━━━━━━━━━━\u001b[0m \u001b[32m10.2/10.2 MB\u001b[0m \u001b[31m55.1 MB/s\u001b[0m eta \u001b[36m0:00:00\u001b[0m\n",
            "\u001b[?25hRequirement already satisfied: urllib3[socks]<3,>=1.26 in /usr/local/lib/python3.10/dist-packages (from selenium) (2.0.7)\n",
            "Collecting trio~=0.17 (from selenium)\n",
            "  Downloading trio-0.23.1-py3-none-any.whl (448 kB)\n",
            "\u001b[2K     \u001b[90m━━━━━━━━━━━━━━━━━━━━━━━━━━━━━━━━━━━━━━━━\u001b[0m \u001b[32m448.3/448.3 kB\u001b[0m \u001b[31m40.3 MB/s\u001b[0m eta \u001b[36m0:00:00\u001b[0m\n",
            "\u001b[?25hCollecting trio-websocket~=0.9 (from selenium)\n",
            "  Downloading trio_websocket-0.11.1-py3-none-any.whl (17 kB)\n",
            "Requirement already satisfied: certifi>=2021.10.8 in /usr/local/lib/python3.10/dist-packages (from selenium) (2023.7.22)\n",
            "Requirement already satisfied: attrs>=20.1.0 in /usr/local/lib/python3.10/dist-packages (from trio~=0.17->selenium) (23.1.0)\n",
            "Requirement already satisfied: sortedcontainers in /usr/local/lib/python3.10/dist-packages (from trio~=0.17->selenium) (2.4.0)\n",
            "Requirement already satisfied: idna in /usr/local/lib/python3.10/dist-packages (from trio~=0.17->selenium) (3.4)\n",
            "Collecting outcome (from trio~=0.17->selenium)\n",
            "  Downloading outcome-1.3.0.post0-py2.py3-none-any.whl (10 kB)\n",
            "Requirement already satisfied: sniffio>=1.3.0 in /usr/local/lib/python3.10/dist-packages (from trio~=0.17->selenium) (1.3.0)\n",
            "Requirement already satisfied: exceptiongroup>=1.0.0rc9 in /usr/local/lib/python3.10/dist-packages (from trio~=0.17->selenium) (1.1.3)\n",
            "Collecting wsproto>=0.14 (from trio-websocket~=0.9->selenium)\n",
            "  Downloading wsproto-1.2.0-py3-none-any.whl (24 kB)\n",
            "Requirement already satisfied: pysocks!=1.5.7,<2.0,>=1.5.6 in /usr/local/lib/python3.10/dist-packages (from urllib3[socks]<3,>=1.26->selenium) (1.7.1)\n",
            "Collecting h11<1,>=0.9.0 (from wsproto>=0.14->trio-websocket~=0.9->selenium)\n",
            "  Downloading h11-0.14.0-py3-none-any.whl (58 kB)\n",
            "\u001b[2K     \u001b[90m━━━━━━━━━━━━━━━━━━━━━━━━━━━━━━━━━━━━━━━━\u001b[0m \u001b[32m58.3/58.3 kB\u001b[0m \u001b[31m7.1 MB/s\u001b[0m eta \u001b[36m0:00:00\u001b[0m\n",
            "\u001b[?25hInstalling collected packages: outcome, h11, wsproto, trio, trio-websocket, selenium\n",
            "Successfully installed h11-0.14.0 outcome-1.3.0.post0 selenium-4.15.2 trio-0.23.1 trio-websocket-0.11.1 wsproto-1.2.0\n"
          ]
        }
      ]
    },
    {
      "cell_type": "code",
      "execution_count": null,
      "metadata": {
        "id": "zYBLQ-mgQkGo"
      },
      "outputs": [],
      "source": [
        "# Import necessary libraries\n",
        "\n",
        "from selenium import webdriver\n",
        "from selenium.webdriver.common.by import By\n",
        "from selenium.webdriver.common.keys import Keys\n",
        "from selenium.webdriver.support.wait import WebDriverWait\n",
        "from selenium.webdriver.support import expected_conditions as EC\n",
        "from selenium.common.exceptions import TimeoutException\n",
        "import time\n",
        "from itertools import repeat\n",
        "import pandas as pd\n",
        "import configparser\n",
        "import numpy as np"
      ]
    },
    {
      "cell_type": "markdown",
      "metadata": {
        "id": "uzmeTqoMQkGp"
      },
      "source": [
        "# Setting up Webdriver and credentials"
      ]
    },
    {
      "cell_type": "code",
      "execution_count": null,
      "metadata": {
        "id": "VpNyPIw-QkGp",
        "colab": {
          "base_uri": "https://localhost:8080/",
          "height": 737
        },
        "outputId": "901ece4b-a57e-433b-c4b5-c99a3063c806"
      },
      "outputs": [
        {
          "output_type": "error",
          "ename": "SessionNotCreatedException",
          "evalue": "ignored",
          "traceback": [
            "\u001b[0;31m---------------------------------------------------------------------------\u001b[0m",
            "\u001b[0;31mSessionNotCreatedException\u001b[0m                Traceback (most recent call last)",
            "\u001b[0;32m<ipython-input-3-633f94cbd047>\u001b[0m in \u001b[0;36m<cell line: 2>\u001b[0;34m()\u001b[0m\n\u001b[1;32m      1\u001b[0m \u001b[0;31m# Initialize the WebDriver using Chrome\u001b[0m\u001b[0;34m\u001b[0m\u001b[0;34m\u001b[0m\u001b[0m\n\u001b[0;32m----> 2\u001b[0;31m \u001b[0mdriver\u001b[0m \u001b[0;34m=\u001b[0m \u001b[0mwebdriver\u001b[0m\u001b[0;34m.\u001b[0m\u001b[0mChrome\u001b[0m\u001b[0;34m(\u001b[0m\u001b[0;34m)\u001b[0m\u001b[0;34m\u001b[0m\u001b[0;34m\u001b[0m\u001b[0m\n\u001b[0m\u001b[1;32m      3\u001b[0m \u001b[0mdriver\u001b[0m\u001b[0;34m.\u001b[0m\u001b[0mmaximize_window\u001b[0m\u001b[0;34m(\u001b[0m\u001b[0;34m)\u001b[0m  \u001b[0;31m# Maximize the browser window\u001b[0m\u001b[0;34m\u001b[0m\u001b[0;34m\u001b[0m\u001b[0m\n\u001b[1;32m      4\u001b[0m \u001b[0;34m\u001b[0m\u001b[0m\n\u001b[1;32m      5\u001b[0m \u001b[0;31m# Navigate to the Glassdoor website\u001b[0m\u001b[0;34m\u001b[0m\u001b[0;34m\u001b[0m\u001b[0m\n",
            "\u001b[0;32m/usr/local/lib/python3.10/dist-packages/selenium/webdriver/chrome/webdriver.py\u001b[0m in \u001b[0;36m__init__\u001b[0;34m(self, options, service, keep_alive)\u001b[0m\n\u001b[1;32m     43\u001b[0m         \u001b[0moptions\u001b[0m \u001b[0;34m=\u001b[0m \u001b[0moptions\u001b[0m \u001b[0;32mif\u001b[0m \u001b[0moptions\u001b[0m \u001b[0;32melse\u001b[0m \u001b[0mOptions\u001b[0m\u001b[0;34m(\u001b[0m\u001b[0;34m)\u001b[0m\u001b[0;34m\u001b[0m\u001b[0;34m\u001b[0m\u001b[0m\n\u001b[1;32m     44\u001b[0m \u001b[0;34m\u001b[0m\u001b[0m\n\u001b[0;32m---> 45\u001b[0;31m         super().__init__(\n\u001b[0m\u001b[1;32m     46\u001b[0m             \u001b[0mDesiredCapabilities\u001b[0m\u001b[0;34m.\u001b[0m\u001b[0mCHROME\u001b[0m\u001b[0;34m[\u001b[0m\u001b[0;34m\"browserName\"\u001b[0m\u001b[0;34m]\u001b[0m\u001b[0;34m,\u001b[0m\u001b[0;34m\u001b[0m\u001b[0;34m\u001b[0m\u001b[0m\n\u001b[1;32m     47\u001b[0m             \u001b[0;34m\"goog\"\u001b[0m\u001b[0;34m,\u001b[0m\u001b[0;34m\u001b[0m\u001b[0;34m\u001b[0m\u001b[0m\n",
            "\u001b[0;32m/usr/local/lib/python3.10/dist-packages/selenium/webdriver/chromium/webdriver.py\u001b[0m in \u001b[0;36m__init__\u001b[0;34m(self, browser_name, vendor_prefix, options, service, keep_alive)\u001b[0m\n\u001b[1;32m     54\u001b[0m \u001b[0;34m\u001b[0m\u001b[0m\n\u001b[1;32m     55\u001b[0m         \u001b[0;32mtry\u001b[0m\u001b[0;34m:\u001b[0m\u001b[0;34m\u001b[0m\u001b[0;34m\u001b[0m\u001b[0m\n\u001b[0;32m---> 56\u001b[0;31m             super().__init__(\n\u001b[0m\u001b[1;32m     57\u001b[0m                 command_executor=ChromiumRemoteConnection(\n\u001b[1;32m     58\u001b[0m                     \u001b[0mremote_server_addr\u001b[0m\u001b[0;34m=\u001b[0m\u001b[0mself\u001b[0m\u001b[0;34m.\u001b[0m\u001b[0mservice\u001b[0m\u001b[0;34m.\u001b[0m\u001b[0mservice_url\u001b[0m\u001b[0;34m,\u001b[0m\u001b[0;34m\u001b[0m\u001b[0;34m\u001b[0m\u001b[0m\n",
            "\u001b[0;32m/usr/local/lib/python3.10/dist-packages/selenium/webdriver/remote/webdriver.py\u001b[0m in \u001b[0;36m__init__\u001b[0;34m(self, command_executor, keep_alive, file_detector, options)\u001b[0m\n\u001b[1;32m    206\u001b[0m         \u001b[0mself\u001b[0m\u001b[0;34m.\u001b[0m\u001b[0m_authenticator_id\u001b[0m \u001b[0;34m=\u001b[0m \u001b[0;32mNone\u001b[0m\u001b[0;34m\u001b[0m\u001b[0;34m\u001b[0m\u001b[0m\n\u001b[1;32m    207\u001b[0m         \u001b[0mself\u001b[0m\u001b[0;34m.\u001b[0m\u001b[0mstart_client\u001b[0m\u001b[0;34m(\u001b[0m\u001b[0;34m)\u001b[0m\u001b[0;34m\u001b[0m\u001b[0;34m\u001b[0m\u001b[0m\n\u001b[0;32m--> 208\u001b[0;31m         \u001b[0mself\u001b[0m\u001b[0;34m.\u001b[0m\u001b[0mstart_session\u001b[0m\u001b[0;34m(\u001b[0m\u001b[0mcapabilities\u001b[0m\u001b[0;34m)\u001b[0m\u001b[0;34m\u001b[0m\u001b[0;34m\u001b[0m\u001b[0m\n\u001b[0m\u001b[1;32m    209\u001b[0m \u001b[0;34m\u001b[0m\u001b[0m\n\u001b[1;32m    210\u001b[0m     \u001b[0;32mdef\u001b[0m \u001b[0m__repr__\u001b[0m\u001b[0;34m(\u001b[0m\u001b[0mself\u001b[0m\u001b[0;34m)\u001b[0m\u001b[0;34m:\u001b[0m\u001b[0;34m\u001b[0m\u001b[0;34m\u001b[0m\u001b[0m\n",
            "\u001b[0;32m/usr/local/lib/python3.10/dist-packages/selenium/webdriver/remote/webdriver.py\u001b[0m in \u001b[0;36mstart_session\u001b[0;34m(self, capabilities)\u001b[0m\n\u001b[1;32m    290\u001b[0m \u001b[0;34m\u001b[0m\u001b[0m\n\u001b[1;32m    291\u001b[0m         \u001b[0mcaps\u001b[0m \u001b[0;34m=\u001b[0m \u001b[0m_create_caps\u001b[0m\u001b[0;34m(\u001b[0m\u001b[0mcapabilities\u001b[0m\u001b[0;34m)\u001b[0m\u001b[0;34m\u001b[0m\u001b[0;34m\u001b[0m\u001b[0m\n\u001b[0;32m--> 292\u001b[0;31m         \u001b[0mresponse\u001b[0m \u001b[0;34m=\u001b[0m \u001b[0mself\u001b[0m\u001b[0;34m.\u001b[0m\u001b[0mexecute\u001b[0m\u001b[0;34m(\u001b[0m\u001b[0mCommand\u001b[0m\u001b[0;34m.\u001b[0m\u001b[0mNEW_SESSION\u001b[0m\u001b[0;34m,\u001b[0m \u001b[0mcaps\u001b[0m\u001b[0;34m)\u001b[0m\u001b[0;34m[\u001b[0m\u001b[0;34m\"value\"\u001b[0m\u001b[0;34m]\u001b[0m\u001b[0;34m\u001b[0m\u001b[0;34m\u001b[0m\u001b[0m\n\u001b[0m\u001b[1;32m    293\u001b[0m         \u001b[0mself\u001b[0m\u001b[0;34m.\u001b[0m\u001b[0msession_id\u001b[0m \u001b[0;34m=\u001b[0m \u001b[0mresponse\u001b[0m\u001b[0;34m.\u001b[0m\u001b[0mget\u001b[0m\u001b[0;34m(\u001b[0m\u001b[0;34m\"sessionId\"\u001b[0m\u001b[0;34m)\u001b[0m\u001b[0;34m\u001b[0m\u001b[0;34m\u001b[0m\u001b[0m\n\u001b[1;32m    294\u001b[0m         \u001b[0mself\u001b[0m\u001b[0;34m.\u001b[0m\u001b[0mcaps\u001b[0m \u001b[0;34m=\u001b[0m \u001b[0mresponse\u001b[0m\u001b[0;34m.\u001b[0m\u001b[0mget\u001b[0m\u001b[0;34m(\u001b[0m\u001b[0;34m\"capabilities\"\u001b[0m\u001b[0;34m)\u001b[0m\u001b[0;34m\u001b[0m\u001b[0;34m\u001b[0m\u001b[0m\n",
            "\u001b[0;32m/usr/local/lib/python3.10/dist-packages/selenium/webdriver/remote/webdriver.py\u001b[0m in \u001b[0;36mexecute\u001b[0;34m(self, driver_command, params)\u001b[0m\n\u001b[1;32m    345\u001b[0m         \u001b[0mresponse\u001b[0m \u001b[0;34m=\u001b[0m \u001b[0mself\u001b[0m\u001b[0;34m.\u001b[0m\u001b[0mcommand_executor\u001b[0m\u001b[0;34m.\u001b[0m\u001b[0mexecute\u001b[0m\u001b[0;34m(\u001b[0m\u001b[0mdriver_command\u001b[0m\u001b[0;34m,\u001b[0m \u001b[0mparams\u001b[0m\u001b[0;34m)\u001b[0m\u001b[0;34m\u001b[0m\u001b[0;34m\u001b[0m\u001b[0m\n\u001b[1;32m    346\u001b[0m         \u001b[0;32mif\u001b[0m \u001b[0mresponse\u001b[0m\u001b[0;34m:\u001b[0m\u001b[0;34m\u001b[0m\u001b[0;34m\u001b[0m\u001b[0m\n\u001b[0;32m--> 347\u001b[0;31m             \u001b[0mself\u001b[0m\u001b[0;34m.\u001b[0m\u001b[0merror_handler\u001b[0m\u001b[0;34m.\u001b[0m\u001b[0mcheck_response\u001b[0m\u001b[0;34m(\u001b[0m\u001b[0mresponse\u001b[0m\u001b[0;34m)\u001b[0m\u001b[0;34m\u001b[0m\u001b[0;34m\u001b[0m\u001b[0m\n\u001b[0m\u001b[1;32m    348\u001b[0m             \u001b[0mresponse\u001b[0m\u001b[0;34m[\u001b[0m\u001b[0;34m\"value\"\u001b[0m\u001b[0;34m]\u001b[0m \u001b[0;34m=\u001b[0m \u001b[0mself\u001b[0m\u001b[0;34m.\u001b[0m\u001b[0m_unwrap_value\u001b[0m\u001b[0;34m(\u001b[0m\u001b[0mresponse\u001b[0m\u001b[0;34m.\u001b[0m\u001b[0mget\u001b[0m\u001b[0;34m(\u001b[0m\u001b[0;34m\"value\"\u001b[0m\u001b[0;34m,\u001b[0m \u001b[0;32mNone\u001b[0m\u001b[0;34m)\u001b[0m\u001b[0;34m)\u001b[0m\u001b[0;34m\u001b[0m\u001b[0;34m\u001b[0m\u001b[0m\n\u001b[1;32m    349\u001b[0m             \u001b[0;32mreturn\u001b[0m \u001b[0mresponse\u001b[0m\u001b[0;34m\u001b[0m\u001b[0;34m\u001b[0m\u001b[0m\n",
            "\u001b[0;32m/usr/local/lib/python3.10/dist-packages/selenium/webdriver/remote/errorhandler.py\u001b[0m in \u001b[0;36mcheck_response\u001b[0;34m(self, response)\u001b[0m\n\u001b[1;32m    227\u001b[0m                 \u001b[0malert_text\u001b[0m \u001b[0;34m=\u001b[0m \u001b[0mvalue\u001b[0m\u001b[0;34m[\u001b[0m\u001b[0;34m\"alert\"\u001b[0m\u001b[0;34m]\u001b[0m\u001b[0;34m.\u001b[0m\u001b[0mget\u001b[0m\u001b[0;34m(\u001b[0m\u001b[0;34m\"text\"\u001b[0m\u001b[0;34m)\u001b[0m\u001b[0;34m\u001b[0m\u001b[0;34m\u001b[0m\u001b[0m\n\u001b[1;32m    228\u001b[0m             \u001b[0;32mraise\u001b[0m \u001b[0mexception_class\u001b[0m\u001b[0;34m(\u001b[0m\u001b[0mmessage\u001b[0m\u001b[0;34m,\u001b[0m \u001b[0mscreen\u001b[0m\u001b[0;34m,\u001b[0m \u001b[0mstacktrace\u001b[0m\u001b[0;34m,\u001b[0m \u001b[0malert_text\u001b[0m\u001b[0;34m)\u001b[0m  \u001b[0;31m# type: ignore[call-arg]  # mypy is not smart enough here\u001b[0m\u001b[0;34m\u001b[0m\u001b[0;34m\u001b[0m\u001b[0m\n\u001b[0;32m--> 229\u001b[0;31m         \u001b[0;32mraise\u001b[0m \u001b[0mexception_class\u001b[0m\u001b[0;34m(\u001b[0m\u001b[0mmessage\u001b[0m\u001b[0;34m,\u001b[0m \u001b[0mscreen\u001b[0m\u001b[0;34m,\u001b[0m \u001b[0mstacktrace\u001b[0m\u001b[0;34m)\u001b[0m\u001b[0;34m\u001b[0m\u001b[0;34m\u001b[0m\u001b[0m\n\u001b[0m",
            "\u001b[0;31mSessionNotCreatedException\u001b[0m: Message: session not created: Chrome failed to start: exited normally.\n  (session not created: DevToolsActivePort file doesn't exist)\n  (The process started from chrome location /root/.cache/selenium/chrome/linux64/119.0.6045.105/chrome is no longer running, so ChromeDriver is assuming that Chrome has crashed.)\nStacktrace:\n#0 0x55e7f9c085e3 <unknown>\n#1 0x55e7f98cb0b7 <unknown>\n#2 0x55e7f9901e55 <unknown>\n#3 0x55e7f98feb81 <unknown>\n#4 0x55e7f994947f <unknown>\n#5 0x55e7f993fcc3 <unknown>\n#6 0x55e7f990b0e4 <unknown>\n#7 0x55e7f990c0ae <unknown>\n#8 0x55e7f9bcece1 <unknown>\n#9 0x55e7f9bd2b7e <unknown>\n#10 0x55e7f9bbc4b5 <unknown>\n#11 0x55e7f9bd37d6 <unknown>\n#12 0x55e7f9b9fdbf <unknown>\n#13 0x55e7f9bf6748 <unknown>\n#14 0x55e7f9bf6917 <unknown>\n#15 0x55e7f9c07773 <unknown>\n#16 0x7fd2d7403ac3 <unknown>\n"
          ]
        }
      ],
      "source": [
        "# Initialize the WebDriver using Chrome\n",
        "driver = webdriver.Chrome()\n",
        "driver.maximize_window()  # Maximize the browser window\n",
        "\n",
        "# Navigate to the Glassdoor website\n",
        "driver.get(\"https://www.glassdoor.com/index.htm\")\n",
        "\n",
        "# Create a configparser object and read the configuration file\n",
        "config = configparser.ConfigParser()\n",
        "config.read(\"config.ini\")\n",
        "\n",
        "# Access the username and password from the configuration file\n",
        "username = config[\"credentials\"][\"username\"]\n",
        "password = config[\"credentials\"][\"password\"]\n",
        "\n",
        "# Find and fill in the username field, then press Enter\n",
        "uname = driver.find_element(By.XPATH, \".//*[@id='inlineUserEmail']\")\n",
        "uname.send_keys(username)\n",
        "uname.send_keys(Keys.ENTER)\n",
        "\n",
        "# Wait for the password field to be present, then fill it in and submit the form\n",
        "upassword = WebDriverWait(driver, 10).until(\n",
        "    EC.presence_of_element_located((By.XPATH, \".//*[@id='inlineUserPassword']\"))\n",
        ")\n",
        "upassword.send_keys(password)\n",
        "upassword.submit()"
      ]
    },
    {
      "cell_type": "markdown",
      "metadata": {
        "id": "ceied6ntQkGp"
      },
      "source": [
        "# Sales Manager Single-Page Step-by-Step"
      ]
    },
    {
      "cell_type": "code",
      "execution_count": null,
      "metadata": {
        "id": "9LurRt09QkGq",
        "outputId": "c7391f93-c1b4-4d71-c782-c83d7aae9eca",
        "colab": {
          "base_uri": "https://localhost:8080/",
          "height": 245
        }
      },
      "outputs": [
        {
          "output_type": "error",
          "ename": "NameError",
          "evalue": "ignored",
          "traceback": [
            "\u001b[0;31m---------------------------------------------------------------------------\u001b[0m",
            "\u001b[0;31mNameError\u001b[0m                                 Traceback (most recent call last)",
            "\u001b[0;32m<ipython-input-5-3b97708d4fcb>\u001b[0m in \u001b[0;36m<cell line: 2>\u001b[0;34m()\u001b[0m\n\u001b[1;32m      1\u001b[0m \u001b[0;31m# Navigate to the page with interview questions for sales managers\u001b[0m\u001b[0;34m\u001b[0m\u001b[0;34m\u001b[0m\u001b[0m\n\u001b[0;32m----> 2\u001b[0;31m driver.get(\n\u001b[0m\u001b[1;32m      3\u001b[0m     \u001b[0;34m\"https://www.glassdoor.com/Interview/sales-manager-interview-questions-SRCH_KO0,13.htm\"\u001b[0m\u001b[0;34m\u001b[0m\u001b[0;34m\u001b[0m\u001b[0m\n\u001b[1;32m      4\u001b[0m )\n\u001b[1;32m      5\u001b[0m \u001b[0;34m\u001b[0m\u001b[0m\n",
            "\u001b[0;31mNameError\u001b[0m: name 'driver' is not defined"
          ]
        }
      ],
      "source": [
        "# Navigate to the page with interview questions for sales managers\n",
        "driver.get(\n",
        "    \"https://www.glassdoor.com/Interview/sales-manager-interview-questions-SRCH_KO0,13.htm\"\n",
        ")\n",
        "\n",
        "# Initialize an empty list to store interview questions\n",
        "question_list = []\n",
        "\n",
        "# Find interview questions suing XPath looking for <h3 class='css-1jvs3tk edupdmz3'>\n",
        "questions = driver.find_elements(By.XPATH, \"//h3[@class='css-1jvs3tk edupdmz3']\")\n",
        "\n",
        "# Append the questions to the question_list\n",
        "for question in questions:\n",
        "    question_list.append(question.text)\n",
        "\n",
        "print(question_list)"
      ]
    },
    {
      "cell_type": "code",
      "execution_count": null,
      "metadata": {
        "id": "3rz444t8QkGq",
        "outputId": "9fe505c0-c14d-4717-936b-6b27d0c71e80"
      },
      "outputs": [
        {
          "name": "stdout",
          "output_type": "stream",
          "text": [
            "[4, 1, 1, 1, 1, 1, 8, 7, 7, 8]\n"
          ]
        }
      ],
      "source": [
        "# Find the number of responses looking for <a class='mt-lg d-flex align-items-center'>\n",
        "response_elements = driver.find_elements(\n",
        "    By.XPATH, \"//a[@class='mt-lg d-flex align-items-center']\"\n",
        ")\n",
        "# Initialize empty list\n",
        "response_number = []\n",
        "\n",
        "# Click on elements to load more responses, if any\n",
        "for element in response_elements[1:]:\n",
        "    wait = WebDriverWait(driver, 10)\n",
        "    wait.until(EC.visibility_of(element))\n",
        "    time.sleep(0.5)\n",
        "    driver.execute_script(\"arguments[0].click();\", element)\n",
        "\n",
        "# Get the text from the response elements and convert to an integer\n",
        "for element in response_elements:\n",
        "    response_number.append(element.text)\n",
        "\n",
        "number_responses = [int(text[0]) for text in response_number]\n",
        "print(number_responses)"
      ]
    },
    {
      "cell_type": "code",
      "execution_count": null,
      "metadata": {
        "id": "FjlT_bs2QkGq",
        "outputId": "373b0faf-8aff-4def-de1a-6da69839f5dd"
      },
      "outputs": [
        {
          "name": "stdout",
          "output_type": "stream",
          "text": [
            "['Ask what they see in a pen. If he remembers the last pen he used, and what price he would put on a pen he uses for signing big important contracts. As soon as he names a price... sold Less', \"this pen has an option for lifetime ink cartridge's. So if you buy the bundle with lifetime cartridges You will never need another pen again. I f you buy 50 pens the 1st pen is at no charge. these would be great for advertising purposes. We can engrave each pen with your company information on it. this promotion ends this week. How many would you like? Less\", 'Me: How can I sell you something you already own? VP: It\\'s your pen now - sell it to me. Me: My pen? Right?\" VP: Yes, sell it to me. Me: You\\'re sure about this being my pen? VP: That\\'s what I said. Me: It\\'s not for sale. VP: What do you mean? Me: I\\'ll get a better price from someone who wants the pen. Trying to sell a product to a person who is giving the same item away for free is like trying to sell sand at the beach. VP: OK, I get it - now can I have my pen back? Me: I don\\'t have your pen. But as luck would have it I do have one for sale. Less', \"He wanted a better prices, so I told him that if he bought 5 he'd get a better price. I got the job. Less\", 'I see an opportunity to share my effective skills by way of training and reinforcing currently knowledge base, and bringing a fresh set of eyes to reoccurring problems. Less', \"I gave details on how I've managed large teams and my style leans toward moral, comadarie, listening and trying to build a successful team. Less\", 'Because i have a natural talent to motivate people and to generate a team work environment Less', 'Let the client talk, when there\\'s a pause, tell them \"I understand how you feel.\" That I would take responsibility and tell them I will do everything in my power to make this right by them and see to it that it never happens again. Less', 'I would assess as to where each member of the team was at in relation to sales and then leverage my time by spending it with those that are in the worse shape or closest to not making a bonus. Less', 'I have communication skills, time management, problem solving, planning, team building, and keeping calm in difficult situations. Less', 'If needed I am willing to relocate if given time to find housing.', 'If needed I am willing to relocate if given enough time to find housing.', 'Very much still interested and very confident that I can take store C1500 Magee Ms to the next level if given the opportunity. Less', 'Manger position to bring the company into a good in come.', 'I have good business ideas to grow a company and make it a five Star company .', 'I good at time management, communicating skills, planning, keep calm, team building, learning, technical skills and problem solving. Less', 'Still interested', 'I find better opportunities to work with u.i want to give growth to my teaching career . Less', \"As the company is a new start-up it will create new path for my career. I can learn so many things from it. As it's a new company with my efforts I can grow with the company. I will give my best if you select me for this job . I'm willing to work with the company and grow with it. Less\", 'white hat jr. is a growing company with flexible work timings which is very delightful. and it gives an opportunity to work from home during this pandemic which is the best part for all . Less', 'Online coding and math classces', 'Online coding and math classces', 'Getting good jobs', 'It is a great company for coming up generations . And yes gives u great opportunities .. work from home is the best what I will see forward ... want to work with this company ... and yes the best part is the pay ... Less', 'Well ,with my skills and experience can make a difference', 'My innovative sales processes, strategic planning, excellent communication,, agressive leadership would ensure me achieving your companies goals and targets Less', 'Well ,with my skills and experience can make a difference', 'My skill and my experience can make a difference', 'My results can respond aggressively', 'Hello sir /madam am velda am from Cameroon I speak English and French I have more than 5 years experience occupying this position I believe with my skills and experience I can make a difference Less', 'Hello, I believe I am definitely suitable for this job. I have more than 15 years sale and customer service experience in US. I have worked for the two largest companies in the world enterprise Holding rental car and AT&amp;T and I was award the best sales agent and customer service representatives. I am interested. I believe I would be a wonderful addition to your team. Less', \"The company is appointing the employees as a designation of Branch Manager, Area Sales Manager, Channel Sales Manager, Business Development Manager and etc and offered them the good salary packages and after one or two months of there working company fired them without intimating and without paying a single penny or salary to there employees by saying that they are not working properly. PLEASE BEWARE OF THIS COMPANY, THIS COMPANY(FORUN EXPRESS COURIER &amp; CARGO LTD) IS A FRAUD COMPANY. THIS COMPANY IS BLACKLISTED NOW. THIS COMPANY'S CHAIRMAN R.K ADHWANI IS FRAUD, BLACKLISTED AND A CRIMINAL BACKGROUND. PLEASE BEWARE OF THE COMPANY AND THERE EMPLOYEES. Less\", 'No', 'Thanks for sharing', 'Yes', 'Yes, I can join immediately if I get a better opportunity.', 'Yes, I can join Immediately sir', 'Yes', 'Yes']\n"
          ]
        }
      ],
      "source": [
        "# Create a new question list repeating each question based on the number of responses\n",
        "new_question_list = []\n",
        "i = 0\n",
        "for number in number_responses:\n",
        "    new_question_list.extend(repeat(question_list[i], number))\n",
        "    i += 1\n",
        "\n",
        "# Find and click on elements to load more responses, if any, finding <a class='col d-flex justify-content-center py mb'>\n",
        "show_more_elements = driver.find_elements(\n",
        "    By.XPATH, \"//a[@class='col d-flex justify-content-center py mb']\"\n",
        ")\n",
        "\n",
        "try:\n",
        "    for element in show_more_elements:\n",
        "        wait = WebDriverWait(driver, 10)\n",
        "        wait.until(EC.visibility_of(element))\n",
        "        time.sleep(0.5)\n",
        "        driver.execute_script(\"arguments[0].click();\", element)\n",
        "except TimeoutException as ex:\n",
        "    print(str(ex))\n",
        "    pass\n",
        "\n",
        "# Clicking on 'More' to reveal additional content\n",
        "more_elements = driver.find_elements(By.LINK_TEXT, \"More\")\n",
        "\n",
        "for element in more_elements:\n",
        "    wait = WebDriverWait(driver, 10)\n",
        "    wait.until(EC.visibility_of(element))\n",
        "    time.sleep(0.5)\n",
        "    driver.execute_script(\"arguments[0].click();\", element)\n",
        "\n",
        "# Find and extract the answers\n",
        "answers = driver.find_elements(By.XPATH, \"//p[@class='css-1jbawm2 edupdmz9']\")\n",
        "\n",
        "answer_list = []\n",
        "\n",
        "# Append the answers to the answer_list\n",
        "for answer in answers:\n",
        "    answer_list.append(answer.text)\n",
        "\n",
        "print(answer_list)"
      ]
    },
    {
      "cell_type": "code",
      "execution_count": null,
      "metadata": {
        "id": "L8T83MzzQkGr"
      },
      "outputs": [],
      "source": [
        "# Create a DataFrame from the questions and answers\n",
        "df = pd.DataFrame(\n",
        "    list(zip(new_question_list, answer_list)), columns=[\"Question\", \"Answer\"]\n",
        ")"
      ]
    },
    {
      "cell_type": "markdown",
      "metadata": {
        "id": "1RbtJ932QkGr"
      },
      "source": [
        "# Iterating through Additional Pages"
      ]
    },
    {
      "cell_type": "code",
      "execution_count": null,
      "metadata": {
        "id": "YW8U4icyQkGr",
        "outputId": "fe4e3db8-7d3e-4793-d2ca-fd1e3c5f0f2c"
      },
      "outputs": [
        {
          "name": "stdout",
          "output_type": "stream",
          "text": [
            "[6, 6, 6, 7, 5, 5, 5, 5, 3, 4]\n",
            "[4, 4, 4, 4, 4, 3, 4, 6, 4, 4]\n",
            "[4, 4, 4, 4, 4, 4, 4, 2, 3, 3]\n",
            "[3, 2, 3, 2, 3, 3, 3, 3, 3, 3]\n",
            "[3, 3, 3, 1, 3, 3, 3, 3, 3, 3]\n",
            "[3, 2, 1, 4, 3, 3, 3, 3, 3, 3]\n",
            "[3, 3, 3, 3, 3, 3, 3, 3, 3, 3]\n",
            "[3, 3, 2, 3, 3, 3, 1, 2, 2, 2]\n",
            "[2, 3, 2, 2, 1, 2, 2, 2, 2, 2]\n",
            "[2, 2, 1, 1, 2, 2, 2, 2, 2, 2]\n",
            "[2, 2, 2, 1, 2, 2, 2, 2, 2, 2]\n",
            "[2, 2, 2, 2, 1, 2, 2, 2, 2, 2]\n",
            "[2, 2, 2, 2, 2, 2, 2, 2, 2, 2]\n",
            "[2, 2, 2, 2, 2, 2, 2, 2, 2, 2]\n",
            "[2, 2, 2, 2, 2, 2, 2, 2, 2, 2]\n",
            "[2, 2, 2, 2, 2, 2, 2, 2, 2, 2]\n",
            "[2, 1, 2, 2, 2, 2, 2, 2, 2, 2]\n",
            "[2, 2, 2, 2, 2, 2, 2, 2, 1, 2]\n",
            "[2, 2, 2, 2, 2, 2, 2, 2, 2, 1]\n"
          ]
        }
      ],
      "source": [
        "# Initialize list to append completed dataframes from each page\n",
        "df_list = []\n",
        "\n",
        "# Initialize the WebDriver\n",
        "for integer in range(2, 21):\n",
        "    # Construct the URL based on the integer\n",
        "    url = f\"https://www.glassdoor.com/Interview/sales-manager-interview-questions-SRCH_KO0,13_IP{str(integer)}.htm\"\n",
        "\n",
        "    # Open the URL in the WebDriver\n",
        "    driver.get(url)\n",
        "\n",
        "    question_list = []\n",
        "    # Find interview questions using XPath\n",
        "    questions = driver.find_elements(By.XPATH, \"//h3[@class='css-1jvs3tk edupdmz3']\")\n",
        "\n",
        "    # Iterate through the questions and append them to the question_list\n",
        "    for question in questions:\n",
        "        question_list.append(question.text)\n",
        "\n",
        "    # Find the number of responses\n",
        "    response_elements = driver.find_elements(\n",
        "        By.XPATH, \"//a[@class='mt-lg d-flex align-items-center']\"\n",
        "    )\n",
        "    response_number = []\n",
        "\n",
        "    # Print out the number of responses\n",
        "    for element in response_elements[1:]:\n",
        "        wait = WebDriverWait(driver, 10)\n",
        "        wait.until(EC.visibility_of(element))\n",
        "        time.sleep(1)\n",
        "        driver.execute_script(\"arguments[0].click();\", element)\n",
        "\n",
        "    for element in response_elements:\n",
        "        response_number.append(element.text)\n",
        "\n",
        "    # Extract the number of responses as integers\n",
        "    number_responses = [int(text[0]) for text in response_number]\n",
        "    print(number_responses)\n",
        "\n",
        "    new_question_list = []\n",
        "    num = 0\n",
        "    for number in number_responses:\n",
        "        # Repeat each question according to the number of responses\n",
        "        new_question_list.extend(repeat(question_list[num], number))\n",
        "        num += 1\n",
        "\n",
        "    show_more_elements = driver.find_elements(\n",
        "        By.XPATH, \"//a[@class='col d-flex justify-content-center py mb']\"\n",
        "    )\n",
        "\n",
        "    try:\n",
        "        for element in show_more_elements:\n",
        "            wait = WebDriverWait(driver, 10)\n",
        "            wait.until(EC.visibility_of(element))\n",
        "            time.sleep(1)\n",
        "            driver.execute_script(\"arguments[0].click();\", element)\n",
        "    except TimeoutException as ex:\n",
        "        print(str(ex))\n",
        "        pass\n",
        "\n",
        "    # Clicking on 'More' to expose the remainder of the answer statement or prompt by looking a link text of 'More' (these elements only have <a link=''>)\n",
        "    more_elements = driver.find_elements(By.LINK_TEXT, \"More\")\n",
        "\n",
        "    # Print out the number of responses\n",
        "    for element in more_elements:\n",
        "        wait = WebDriverWait(driver, 10)\n",
        "        wait.until(EC.visibility_of(element))\n",
        "        time.sleep(1)\n",
        "        driver.execute_script(\"arguments[0].click();\", element)\n",
        "\n",
        "    # Find the answers\n",
        "    answers = driver.find_elements(By.XPATH, \"//p[@class='css-1jbawm2 edupdmz9']\")\n",
        "\n",
        "    answer_list = []\n",
        "\n",
        "    # Iterate through the answers and append them to the answer_list\n",
        "    for answer in answers:\n",
        "        answer_list.append(answer.text)\n",
        "\n",
        "    # Check if the lengths of new_question_list and answer_list are the same\n",
        "    if len(new_question_list) == len(answer_list):\n",
        "        # Create a DataFrame from the questions and answers and append it to df_list\n",
        "        df = pd.DataFrame(\n",
        "            list(zip(new_question_list, answer_list)), columns=[\"Question\", \"Answer\"]\n",
        "        )\n",
        "        df_list.append(df)\n",
        "    elif len(new_question_list) < len(answer_list):\n",
        "        diff = len(answer_list) - len(new_question_list)\n",
        "        new_question_list.extend(diff * np.nan)\n",
        "        print('Add to new_question_list:', diff)\n",
        "    else:\n",
        "        diff = len(new_question_list) - len(answer_list)\n",
        "        answer_list.extend(diff * np.nan)\n",
        "        print('Add to answer_list:', diff)\n",
        "\n",
        "\n",
        "    # Wait for 10 seconds before proceeding to the next iteration\n",
        "    time.sleep(10)"
      ]
    },
    {
      "cell_type": "code",
      "execution_count": null,
      "metadata": {
        "id": "_iNrlbgsQkGr",
        "outputId": "e1b33a03-1d86-4b37-fd01-e2470a4b9372"
      },
      "outputs": [
        {
          "data": {
            "text/html": [
              "<div>\n",
              "<style scoped>\n",
              "    .dataframe tbody tr th:only-of-type {\n",
              "        vertical-align: middle;\n",
              "    }\n",
              "\n",
              "    .dataframe tbody tr th {\n",
              "        vertical-align: top;\n",
              "    }\n",
              "\n",
              "    .dataframe thead th {\n",
              "        text-align: right;\n",
              "    }\n",
              "</style>\n",
              "<table border=\"1\" class=\"dataframe\">\n",
              "  <thead>\n",
              "    <tr style=\"text-align: right;\">\n",
              "      <th></th>\n",
              "      <th>index</th>\n",
              "      <th>Question</th>\n",
              "      <th>Answer</th>\n",
              "    </tr>\n",
              "  </thead>\n",
              "  <tbody>\n",
              "    <tr>\n",
              "      <th>0</th>\n",
              "      <td>0</td>\n",
              "      <td>What do you know about Uline?</td>\n",
              "      <td>What do you know about Uline? A family-owned b...</td>\n",
              "    </tr>\n",
              "    <tr>\n",
              "      <th>1</th>\n",
              "      <td>1</td>\n",
              "      <td>What do you know about Uline?</td>\n",
              "      <td>Uline is a family-owned distributor of shippin...</td>\n",
              "    </tr>\n",
              "    <tr>\n",
              "      <th>2</th>\n",
              "      <td>2</td>\n",
              "      <td>Why do you want to be in logistics?</td>\n",
              "      <td>Warehouse executive</td>\n",
              "    </tr>\n",
              "    <tr>\n",
              "      <th>3</th>\n",
              "      <td>3</td>\n",
              "      <td>Why do you want to be in logistics?</td>\n",
              "      <td>I love the challenge on a daily basis.</td>\n",
              "    </tr>\n",
              "    <tr>\n",
              "      <th>4</th>\n",
              "      <td>4</td>\n",
              "      <td>What are the key components of a successful sa...</td>\n",
              "      <td>Be aggressive, outgoing and organized.</td>\n",
              "    </tr>\n",
              "    <tr>\n",
              "      <th>5</th>\n",
              "      <td>5</td>\n",
              "      <td>What are the key components of a successful sa...</td>\n",
              "      <td>Someone that knows how to discover and uncover...</td>\n",
              "    </tr>\n",
              "    <tr>\n",
              "      <th>6</th>\n",
              "      <td>6</td>\n",
              "      <td>Can you read people?... What do I think of you?</td>\n",
              "      <td>I responded as of course being a sales person....</td>\n",
              "    </tr>\n",
              "    <tr>\n",
              "      <th>7</th>\n",
              "      <td>7</td>\n",
              "      <td>Can you read people?... What do I think of you?</td>\n",
              "      <td>Answer is! I like this guy, or girl because yo...</td>\n",
              "    </tr>\n",
              "    <tr>\n",
              "      <th>8</th>\n",
              "      <td>8</td>\n",
              "      <td>Why do you think you'll be successful in this ...</td>\n",
              "      <td>When I commit to something, I see it through. ...</td>\n",
              "    </tr>\n",
              "    <tr>\n",
              "      <th>9</th>\n",
              "      <td>9</td>\n",
              "      <td>Why do you think you'll be successful in this ...</td>\n",
              "      <td>Im very flexible in working hour. Im keen to d...</td>\n",
              "    </tr>\n",
              "    <tr>\n",
              "      <th>10</th>\n",
              "      <td>10</td>\n",
              "      <td>Why should we hire you?</td>\n",
              "      <td>I have pass experience in retail and got a cle...</td>\n",
              "    </tr>\n",
              "    <tr>\n",
              "      <th>11</th>\n",
              "      <td>11</td>\n",
              "      <td>Why should we hire you?</td>\n",
              "      <td>Because I have a lot to offer.</td>\n",
              "    </tr>\n",
              "    <tr>\n",
              "      <th>12</th>\n",
              "      <td>12</td>\n",
              "      <td>unexpected questions are irrelevant here, they...</td>\n",
              "      <td>\" I find this job quite interesting, if anythi...</td>\n",
              "    </tr>\n",
              "    <tr>\n",
              "      <th>13</th>\n",
              "      <td>13</td>\n",
              "      <td>unexpected questions are irrelevant here, they...</td>\n",
              "      <td>Talk about focusing on getting to know your te...</td>\n",
              "    </tr>\n",
              "    <tr>\n",
              "      <th>14</th>\n",
              "      <td>14</td>\n",
              "      <td>Why Bombas</td>\n",
              "      <td>Because I want to work at a place where I make...</td>\n",
              "    </tr>\n",
              "    <tr>\n",
              "      <th>15</th>\n",
              "      <td>15</td>\n",
              "      <td>Why Bombas</td>\n",
              "      <td>How long did it take from applying to getting ...</td>\n",
              "    </tr>\n",
              "    <tr>\n",
              "      <th>16</th>\n",
              "      <td>16</td>\n",
              "      <td>Do yo smoke? Do you have any regrets in being ...</td>\n",
              "      <td>yes..</td>\n",
              "    </tr>\n",
              "    <tr>\n",
              "      <th>17</th>\n",
              "      <td>17</td>\n",
              "      <td>Do yo smoke? Do you have any regrets in being ...</td>\n",
              "      <td>I'm interest</td>\n",
              "    </tr>\n",
              "    <tr>\n",
              "      <th>18</th>\n",
              "      <td>18</td>\n",
              "      <td>What is something short term that you had to g...</td>\n",
              "      <td>Most of these are not unexpected but some of w...</td>\n",
              "    </tr>\n",
              "    <tr>\n",
              "      <th>19</th>\n",
              "      <td>0</td>\n",
              "      <td>Could you ready placed in branches?</td>\n",
              "      <td>Yes, ready to be placed in all the branches ne...</td>\n",
              "    </tr>\n",
              "  </tbody>\n",
              "</table>\n",
              "</div>"
            ],
            "text/plain": [
              "    index                                           Question  \\\n",
              "0       0                      What do you know about Uline?   \n",
              "1       1                      What do you know about Uline?   \n",
              "2       2                Why do you want to be in logistics?   \n",
              "3       3                Why do you want to be in logistics?   \n",
              "4       4  What are the key components of a successful sa...   \n",
              "5       5  What are the key components of a successful sa...   \n",
              "6       6    Can you read people?... What do I think of you?   \n",
              "7       7    Can you read people?... What do I think of you?   \n",
              "8       8  Why do you think you'll be successful in this ...   \n",
              "9       9  Why do you think you'll be successful in this ...   \n",
              "10     10                            Why should we hire you?   \n",
              "11     11                            Why should we hire you?   \n",
              "12     12  unexpected questions are irrelevant here, they...   \n",
              "13     13  unexpected questions are irrelevant here, they...   \n",
              "14     14                                         Why Bombas   \n",
              "15     15                                         Why Bombas   \n",
              "16     16  Do yo smoke? Do you have any regrets in being ...   \n",
              "17     17  Do yo smoke? Do you have any regrets in being ...   \n",
              "18     18  What is something short term that you had to g...   \n",
              "19      0                Could you ready placed in branches?   \n",
              "\n",
              "                                               Answer  \n",
              "0   What do you know about Uline? A family-owned b...  \n",
              "1   Uline is a family-owned distributor of shippin...  \n",
              "2                                 Warehouse executive  \n",
              "3              I love the challenge on a daily basis.  \n",
              "4              Be aggressive, outgoing and organized.  \n",
              "5   Someone that knows how to discover and uncover...  \n",
              "6   I responded as of course being a sales person....  \n",
              "7   Answer is! I like this guy, or girl because yo...  \n",
              "8   When I commit to something, I see it through. ...  \n",
              "9   Im very flexible in working hour. Im keen to d...  \n",
              "10  I have pass experience in retail and got a cle...  \n",
              "11                     Because I have a lot to offer.  \n",
              "12  \" I find this job quite interesting, if anythi...  \n",
              "13  Talk about focusing on getting to know your te...  \n",
              "14  Because I want to work at a place where I make...  \n",
              "15  How long did it take from applying to getting ...  \n",
              "16                                              yes..  \n",
              "17                                       I'm interest  \n",
              "18  Most of these are not unexpected but some of w...  \n",
              "19  Yes, ready to be placed in all the branches ne...  "
            ]
          },
          "execution_count": 8,
          "metadata": {},
          "output_type": "execute_result"
        }
      ],
      "source": [
        "# Perform row-wise concatenation to join all the dataframes together\n",
        "entire_df = pd.concat(df_list, axis=0)\n",
        "\n",
        "# Perform row-wise concentation on the original and newly formed dataframe\n",
        "total_df = pd.concat([df, entire_df], axis=0)\n",
        "total_df = total_df.reset_index()\n",
        "total_df.head(20)"
      ]
    },
    {
      "cell_type": "code",
      "execution_count": null,
      "metadata": {
        "id": "XKNXDZARQkGr",
        "outputId": "a569e046-a10a-4427-80d6-63d357858b60"
      },
      "outputs": [
        {
          "data": {
            "text/plain": [
              "499"
            ]
          },
          "execution_count": 9,
          "metadata": {},
          "output_type": "execute_result"
        }
      ],
      "source": [
        "total_df.to_csv(\"sales_manager_interview_qa.csv\")\n",
        "len(total_df)"
      ]
    },
    {
      "cell_type": "code",
      "execution_count": null,
      "metadata": {
        "id": "uob93baGQkGs"
      },
      "outputs": [],
      "source": []
    }
  ],
  "metadata": {
    "kernelspec": {
      "display_name": "scrap-env",
      "language": "python",
      "name": "python3"
    },
    "language_info": {
      "codemirror_mode": {
        "name": "ipython",
        "version": 3
      },
      "file_extension": ".py",
      "mimetype": "text/x-python",
      "name": "python",
      "nbconvert_exporter": "python",
      "pygments_lexer": "ipython3",
      "version": "3.12.0"
    },
    "colab": {
      "provenance": [],
      "include_colab_link": true
    }
  },
  "nbformat": 4,
  "nbformat_minor": 0
}